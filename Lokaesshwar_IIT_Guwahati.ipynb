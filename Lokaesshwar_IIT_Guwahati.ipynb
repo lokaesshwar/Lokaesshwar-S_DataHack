{
  "nbformat": 4,
  "nbformat_minor": 0,
  "metadata": {
    "colab": {
      "provenance": [],
      "authorship_tag": "ABX9TyO/ddrHV7PTknLiwm7XxctZ",
      "include_colab_link": true
    },
    "kernelspec": {
      "name": "python3",
      "display_name": "Python 3"
    },
    "language_info": {
      "name": "python"
    }
  },
  "cells": [
    {
      "cell_type": "markdown",
      "metadata": {
        "id": "view-in-github",
        "colab_type": "text"
      },
      "source": [
        "<a href=\"https://colab.research.google.com/github/lokaesshwar/Lokaesshwar-S_DataHack/blob/main/Lokaesshwar_IIT_Guwahati.ipynb\" target=\"_parent\"><img src=\"https://colab.research.google.com/assets/colab-badge.svg\" alt=\"Open In Colab\"/></a>"
      ]
    },
    {
      "cell_type": "markdown",
      "source": [
        "import libraries"
      ],
      "metadata": {
        "id": "bKTTRRhxGtVg"
      }
    },
    {
      "cell_type": "code",
      "execution_count": 2,
      "metadata": {
        "id": "OllRQY4MEy9w"
      },
      "outputs": [],
      "source": [
        "import pandas as pd\n",
        "from sklearn.model_selection import train_test_split\n",
        "from sklearn.linear_model import LogisticRegression\n",
        "from sklearn.metrics import roc_auc_score\n",
        "from sklearn.preprocessing import OneHotEncoder\n",
        "from sklearn.compose import ColumnTransformer\n",
        "from sklearn.impute import SimpleImputer\n",
        "from sklearn.pipeline import Pipeline"
      ]
    },
    {
      "cell_type": "markdown",
      "source": [
        "Load training and test set features and labels"
      ],
      "metadata": {
        "id": "9C07obxlGx1z"
      }
    },
    {
      "cell_type": "code",
      "source": [
        "train_features = pd.read_csv('training_set_features.csv')\n",
        "train_labels = pd.read_csv('training_set_labels.csv')\n",
        "\n",
        "test_features = pd.read_csv('test_set_features.csv')"
      ],
      "metadata": {
        "id": "Pi4jd8S8Gzjr"
      },
      "execution_count": 3,
      "outputs": []
    },
    {
      "cell_type": "markdown",
      "source": [
        " Merge training features and labels"
      ],
      "metadata": {
        "id": "WVZIZF8SG__w"
      }
    },
    {
      "cell_type": "code",
      "source": [
        "train_df = pd.merge(train_features, train_labels, on='respondent_id')"
      ],
      "metadata": {
        "id": "fQZCwnIwHC6k"
      },
      "execution_count": 4,
      "outputs": []
    },
    {
      "cell_type": "markdown",
      "source": [
        "Identify categorical and numerical columns\n"
      ],
      "metadata": {
        "id": "AxuCQ_vxHKoz"
      }
    },
    {
      "cell_type": "code",
      "source": [
        "categorical_cols = ['age_group', 'education', 'race', 'sex', 'income_poverty',\n",
        "                    'marital_status', 'rent_or_own', 'employment_status',\n",
        "                    'hhs_geo_region', 'census_msa', 'employment_industry',\n",
        "                    'employment_occupation']\n",
        "\n",
        "numerical_cols = [col for col in train_df.columns if col not in categorical_cols + ['respondent_id', 'xyz_vaccine', 'seasonal_vaccine']]"
      ],
      "metadata": {
        "id": "dctotRReHUuR"
      },
      "execution_count": 5,
      "outputs": []
    },
    {
      "cell_type": "markdown",
      "source": [
        "preprocessing of data"
      ],
      "metadata": {
        "id": "4aJEC-5BHdw7"
      }
    },
    {
      "cell_type": "code",
      "source": [
        "categorical_transformer = Pipeline(steps=[\n",
        "    ('imputer', SimpleImputer(strategy='most_frequent')),\n",
        "    ('encoder', OneHotEncoder(drop='first'))\n",
        "])\n",
        "\n",
        "numerical_transformer = Pipeline(steps=[\n",
        "    ('imputer', SimpleImputer(strategy='mean'))\n",
        "])\n",
        "\n",
        "preprocessor = ColumnTransformer(\n",
        "    transformers=[\n",
        "        ('num', numerical_transformer, numerical_cols),\n",
        "        ('cat', categorical_transformer, categorical_cols)\n",
        "    ]\n",
        ")\n",
        "\n",
        "\n",
        "X = train_df.drop(['respondent_id', 'xyz_vaccine', 'seasonal_vaccine'], axis=1)\n",
        "y_xyz = train_df['xyz_vaccine']\n",
        "y_seasonal = train_df['seasonal_vaccine']\n",
        "\n",
        "X_encoded = preprocessor.fit_transform(X)\n"
      ],
      "metadata": {
        "id": "r8QsjZB_HkaA"
      },
      "execution_count": 6,
      "outputs": []
    },
    {
      "cell_type": "markdown",
      "source": [
        "split data"
      ],
      "metadata": {
        "id": "i9ENnbsCHt4p"
      }
    },
    {
      "cell_type": "code",
      "source": [
        "X_train, X_val, y_train_xyz, y_val_xyz = train_test_split(X_encoded, y_xyz, test_size=0.2, random_state=42)\n",
        "X_train, X_val, y_train_seasonal, y_val_seasonal = train_test_split(X_encoded, y_seasonal, test_size=0.2, random_state=42)\n"
      ],
      "metadata": {
        "id": "79QzkVUaHn55"
      },
      "execution_count": 7,
      "outputs": []
    },
    {
      "cell_type": "markdown",
      "source": [
        "Logistic regression models"
      ],
      "metadata": {
        "id": "PMUOoXA3HwA0"
      }
    },
    {
      "cell_type": "code",
      "source": [
        "model_xyz = LogisticRegression(max_iter=1000)\n",
        "model_seasonal = LogisticRegression(max_iter=1000)\n",
        "model_xyz.fit(X_train, y_train_xyz)\n",
        "model_seasonal.fit(X_train, y_train_seasonal)\n",
        "pred_proba_xyz_val = model_xyz.predict_proba(X_val)[:, 1]\n",
        "pred_proba_seasonal_val = model_seasonal.predict_proba(X_val)[:, 1]\n"
      ],
      "metadata": {
        "id": "k5j2XruvH0IX"
      },
      "execution_count": 8,
      "outputs": []
    },
    {
      "cell_type": "markdown",
      "source": [
        "calculate AUC ROC SCORES"
      ],
      "metadata": {
        "id": "X-YKl9qeH5m9"
      }
    },
    {
      "cell_type": "code",
      "source": [
        "auc_xyz = roc_auc_score(y_val_xyz, pred_proba_xyz_val)\n",
        "auc_seasonal = roc_auc_score(y_val_seasonal, pred_proba_seasonal_val)\n",
        "\n",
        "print(f'ROC AUC for xyz_vaccine: {auc_xyz:.4f}')\n",
        "print(f'ROC AUC for seasonal_vaccine: {auc_seasonal:.4f}')"
      ],
      "metadata": {
        "colab": {
          "base_uri": "https://localhost:8080/"
        },
        "id": "GzAlpXIkH899",
        "outputId": "be45fea8-a5c0-4dc6-e5eb-ef1f749cc477"
      },
      "execution_count": 9,
      "outputs": [
        {
          "output_type": "stream",
          "name": "stdout",
          "text": [
            "ROC AUC for xyz_vaccine: 0.8344\n",
            "ROC AUC for seasonal_vaccine: 0.8564\n"
          ]
        }
      ]
    },
    {
      "cell_type": "markdown",
      "source": [
        "Test data"
      ],
      "metadata": {
        "id": "eqqr1vpBH_kv"
      }
    },
    {
      "cell_type": "code",
      "source": [
        "X_test = test_features.drop(['respondent_id'], axis=1)\n",
        "X_test_encoded = preprocessor.transform(X_test)\n",
        "pred_proba_xyz_test = model_xyz.predict_proba(X_test_encoded)[:, 1]\n",
        "pred_proba_seasonal_test = model_seasonal.predict_proba(X_test_encoded)[:, 1]\n"
      ],
      "metadata": {
        "id": "grYwOJq_IBr7"
      },
      "execution_count": 10,
      "outputs": []
    },
    {
      "cell_type": "markdown",
      "source": [
        "submission file"
      ],
      "metadata": {
        "id": "RcwY2vg9IHUd"
      }
    },
    {
      "cell_type": "code",
      "source": [
        "submission_df = pd.DataFrame({\n",
        "    'respondent_id': test_features['respondent_id'],\n",
        "    'xyz_vaccine': pred_proba_xyz_test,\n",
        "    'seasonal_vaccine': pred_proba_seasonal_test\n",
        "})\n",
        "\n",
        "# Save submission file\n",
        "submission_df.to_csv('submission_format.csv', index=False)\n",
        "\n",
        "print(\"Submission saved.\")\n"
      ],
      "metadata": {
        "colab": {
          "base_uri": "https://localhost:8080/"
        },
        "id": "4VYv-0kXIHCE",
        "outputId": "f622c4f2-13df-404c-d4a9-df278105929e"
      },
      "execution_count": 11,
      "outputs": [
        {
          "output_type": "stream",
          "name": "stdout",
          "text": [
            "Submission saved.\n"
          ]
        }
      ]
    }
  ]
}